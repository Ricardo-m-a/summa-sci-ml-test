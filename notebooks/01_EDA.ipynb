{
 "cells": [
  {
   "cell_type": "markdown",
   "id": "8763bd8e",
   "metadata": {},
   "source": [
    "# Análisis Exploratorio de Datos (EDA)\n",
    "\n",
    "En esta sección revisamos las tres bases de datos disponibles para el proyecto:\n",
    "- **Demanda acumulada** (2017-01 a 2022-04) → para pronóstico de demanda.  \n",
    "- **Alpha / Beta** → para clasificación supervisada.  \n",
    "- **to_predict** → datos nuevos que se completarán con los modelos.  \n",
    "\n",
    "---"
   ]
  },
  {
   "cell_type": "markdown",
   "id": "6efe6f62",
   "metadata": {},
   "source": [
    "### Setup"
   ]
  },
  {
   "cell_type": "code",
   "execution_count": 20,
   "id": "2b11ed3e",
   "metadata": {},
   "outputs": [],
   "source": [
    "import pandas as pd\n",
    "from IPython.display import display\n",
    "import unicodedata\n",
    "import matplotlib.pyplot as plt"
   ]
  },
  {
   "cell_type": "markdown",
   "id": "a067dae8",
   "metadata": {},
   "source": [
    "### Carga de datos"
   ]
  },
  {
   "cell_type": "code",
   "execution_count": null,
   "id": "126946d0",
   "metadata": {},
   "outputs": [],
   "source": [
    "# Cargar datasets\n",
    "df_demand = pd.read_csv(\"../data/raw/dataset_demand_acumulate.csv\")\n",
    "df_alpha = pd.read_csv(\"../data/raw/dataset_alpha_betha.csv\")\n",
    "df_pred = pd.read_csv(\"../data/raw/to_predict.csv\")"
   ]
  },
  {
   "cell_type": "code",
   "execution_count": 1,
   "id": "4f14d3cf",
   "metadata": {},
   "outputs": [
    {
     "ename": "NameError",
     "evalue": "name 'df_demand' is not defined",
     "output_type": "error",
     "traceback": [
      "\u001b[31m---------------------------------------------------------------------------\u001b[39m",
      "\u001b[31mNameError\u001b[39m                                 Traceback (most recent call last)",
      "\u001b[36mCell\u001b[39m\u001b[36m \u001b[39m\u001b[32mIn[1]\u001b[39m\u001b[32m, line 2\u001b[39m\n\u001b[32m      1\u001b[39m \u001b[38;5;66;03m# Visulazación inicial de confirmación y conocimiento\u001b[39;00m\n\u001b[32m----> \u001b[39m\u001b[32m2\u001b[39m \u001b[38;5;28;01mfor\u001b[39;00m name, df \u001b[38;5;129;01min\u001b[39;00m [(\u001b[33m\"\u001b[39m\u001b[33mdf_demand\u001b[39m\u001b[33m\"\u001b[39m, \u001b[43mdf_demand\u001b[49m), (\u001b[33m\"\u001b[39m\u001b[33mdf_alpha\u001b[39m\u001b[33m\"\u001b[39m, df_alpha), (\u001b[33m\"\u001b[39m\u001b[33mdf_pred\u001b[39m\u001b[33m\"\u001b[39m, df_pred)]:\n\u001b[32m      3\u001b[39m     display(df.head())\n",
      "\u001b[31mNameError\u001b[39m: name 'df_demand' is not defined"
     ]
    }
   ],
   "source": [
    "# Visulazación inicial de confirmación y conocimiento\n",
    "for name, df in [(\"df_demand\", df_demand), (\"df_alpha\", df_alpha), (\"df_pred\", df_pred)]:\n",
    "    display(df.head())"
   ]
  },
  {
   "cell_type": "markdown",
   "id": "95fa810c",
   "metadata": {},
   "source": [
    "### Exploración inicial"
   ]
  },
  {
   "cell_type": "code",
   "execution_count": 13,
   "id": "5a819c9f",
   "metadata": {},
   "outputs": [
    {
     "name": "stdout",
     "output_type": "stream",
     "text": [
      "=== df_demand ===\n"
     ]
    },
    {
     "data": {
      "text/html": [
       "<div>\n",
       "<style scoped>\n",
       "    .dataframe tbody tr th:only-of-type {\n",
       "        vertical-align: middle;\n",
       "    }\n",
       "\n",
       "    .dataframe tbody tr th {\n",
       "        vertical-align: top;\n",
       "    }\n",
       "\n",
       "    .dataframe thead th {\n",
       "        text-align: right;\n",
       "    }\n",
       "</style>\n",
       "<table border=\"1\" class=\"dataframe\">\n",
       "  <thead>\n",
       "    <tr style=\"text-align: right;\">\n",
       "      <th></th>\n",
       "      <th>Columnas</th>\n",
       "      <th>Tipo</th>\n",
       "      <th>Nulos</th>\n",
       "      <th>Únicos</th>\n",
       "      <th>Duplicados</th>\n",
       "    </tr>\n",
       "  </thead>\n",
       "  <tbody>\n",
       "    <tr>\n",
       "      <th>year_month</th>\n",
       "      <td>year_month</td>\n",
       "      <td>object</td>\n",
       "      <td>0</td>\n",
       "      <td>64</td>\n",
       "      <td>0</td>\n",
       "    </tr>\n",
       "    <tr>\n",
       "      <th>Demand</th>\n",
       "      <td>Demand</td>\n",
       "      <td>float64</td>\n",
       "      <td>0</td>\n",
       "      <td>64</td>\n",
       "      <td></td>\n",
       "    </tr>\n",
       "  </tbody>\n",
       "</table>\n",
       "</div>"
      ],
      "text/plain": [
       "              Columnas     Tipo  Nulos  Únicos Duplicados\n",
       "year_month  year_month   object      0      64          0\n",
       "Demand          Demand  float64      0      64           "
      ]
     },
     "metadata": {},
     "output_type": "display_data"
    },
    {
     "name": "stdout",
     "output_type": "stream",
     "text": [
      "=== df_alpha ===\n"
     ]
    },
    {
     "data": {
      "text/html": [
       "<div>\n",
       "<style scoped>\n",
       "    .dataframe tbody tr th:only-of-type {\n",
       "        vertical-align: middle;\n",
       "    }\n",
       "\n",
       "    .dataframe tbody tr th {\n",
       "        vertical-align: top;\n",
       "    }\n",
       "\n",
       "    .dataframe thead th {\n",
       "        text-align: right;\n",
       "    }\n",
       "</style>\n",
       "<table border=\"1\" class=\"dataframe\">\n",
       "  <thead>\n",
       "    <tr style=\"text-align: right;\">\n",
       "      <th></th>\n",
       "      <th>Columnas</th>\n",
       "      <th>Tipo</th>\n",
       "      <th>Nulos</th>\n",
       "      <th>Únicos</th>\n",
       "      <th>Duplicados</th>\n",
       "    </tr>\n",
       "  </thead>\n",
       "  <tbody>\n",
       "    <tr>\n",
       "      <th>autoID</th>\n",
       "      <td>autoID</td>\n",
       "      <td>object</td>\n",
       "      <td>0</td>\n",
       "      <td>7043</td>\n",
       "      <td>0</td>\n",
       "    </tr>\n",
       "    <tr>\n",
       "      <th>SeniorCity</th>\n",
       "      <td>SeniorCity</td>\n",
       "      <td>int64</td>\n",
       "      <td>0</td>\n",
       "      <td>2</td>\n",
       "      <td></td>\n",
       "    </tr>\n",
       "    <tr>\n",
       "      <th>Partner</th>\n",
       "      <td>Partner</td>\n",
       "      <td>object</td>\n",
       "      <td>0</td>\n",
       "      <td>2</td>\n",
       "      <td></td>\n",
       "    </tr>\n",
       "    <tr>\n",
       "      <th>Dependents</th>\n",
       "      <td>Dependents</td>\n",
       "      <td>object</td>\n",
       "      <td>0</td>\n",
       "      <td>2</td>\n",
       "      <td></td>\n",
       "    </tr>\n",
       "    <tr>\n",
       "      <th>Service1</th>\n",
       "      <td>Service1</td>\n",
       "      <td>object</td>\n",
       "      <td>0</td>\n",
       "      <td>2</td>\n",
       "      <td></td>\n",
       "    </tr>\n",
       "    <tr>\n",
       "      <th>Service2</th>\n",
       "      <td>Service2</td>\n",
       "      <td>object</td>\n",
       "      <td>0</td>\n",
       "      <td>3</td>\n",
       "      <td></td>\n",
       "    </tr>\n",
       "    <tr>\n",
       "      <th>Security</th>\n",
       "      <td>Security</td>\n",
       "      <td>object</td>\n",
       "      <td>0</td>\n",
       "      <td>3</td>\n",
       "      <td></td>\n",
       "    </tr>\n",
       "    <tr>\n",
       "      <th>OnlineBackup</th>\n",
       "      <td>OnlineBackup</td>\n",
       "      <td>object</td>\n",
       "      <td>0</td>\n",
       "      <td>3</td>\n",
       "      <td></td>\n",
       "    </tr>\n",
       "    <tr>\n",
       "      <th>DeviceProtection</th>\n",
       "      <td>DeviceProtection</td>\n",
       "      <td>object</td>\n",
       "      <td>0</td>\n",
       "      <td>3</td>\n",
       "      <td></td>\n",
       "    </tr>\n",
       "    <tr>\n",
       "      <th>TechSupport</th>\n",
       "      <td>TechSupport</td>\n",
       "      <td>object</td>\n",
       "      <td>0</td>\n",
       "      <td>3</td>\n",
       "      <td></td>\n",
       "    </tr>\n",
       "    <tr>\n",
       "      <th>Contract</th>\n",
       "      <td>Contract</td>\n",
       "      <td>object</td>\n",
       "      <td>0</td>\n",
       "      <td>3</td>\n",
       "      <td></td>\n",
       "    </tr>\n",
       "    <tr>\n",
       "      <th>PaperlessBilling</th>\n",
       "      <td>PaperlessBilling</td>\n",
       "      <td>object</td>\n",
       "      <td>0</td>\n",
       "      <td>2</td>\n",
       "      <td></td>\n",
       "    </tr>\n",
       "    <tr>\n",
       "      <th>PaymentMethod</th>\n",
       "      <td>PaymentMethod</td>\n",
       "      <td>object</td>\n",
       "      <td>0</td>\n",
       "      <td>4</td>\n",
       "      <td></td>\n",
       "    </tr>\n",
       "    <tr>\n",
       "      <th>Charges</th>\n",
       "      <td>Charges</td>\n",
       "      <td>float64</td>\n",
       "      <td>0</td>\n",
       "      <td>1585</td>\n",
       "      <td></td>\n",
       "    </tr>\n",
       "    <tr>\n",
       "      <th>Demand</th>\n",
       "      <td>Demand</td>\n",
       "      <td>object</td>\n",
       "      <td>0</td>\n",
       "      <td>6531</td>\n",
       "      <td></td>\n",
       "    </tr>\n",
       "    <tr>\n",
       "      <th>Class</th>\n",
       "      <td>Class</td>\n",
       "      <td>object</td>\n",
       "      <td>0</td>\n",
       "      <td>2</td>\n",
       "      <td></td>\n",
       "    </tr>\n",
       "  </tbody>\n",
       "</table>\n",
       "</div>"
      ],
      "text/plain": [
       "                          Columnas     Tipo  Nulos  Únicos Duplicados\n",
       "autoID                      autoID   object      0    7043          0\n",
       "SeniorCity              SeniorCity    int64      0       2           \n",
       "Partner                    Partner   object      0       2           \n",
       "Dependents              Dependents   object      0       2           \n",
       "Service1                  Service1   object      0       2           \n",
       "Service2                  Service2   object      0       3           \n",
       "Security                  Security   object      0       3           \n",
       "OnlineBackup          OnlineBackup   object      0       3           \n",
       "DeviceProtection  DeviceProtection   object      0       3           \n",
       "TechSupport            TechSupport   object      0       3           \n",
       "Contract                  Contract   object      0       3           \n",
       "PaperlessBilling  PaperlessBilling   object      0       2           \n",
       "PaymentMethod        PaymentMethod   object      0       4           \n",
       "Charges                    Charges  float64      0    1585           \n",
       "Demand                      Demand   object      0    6531           \n",
       "Class                        Class   object      0       2           "
      ]
     },
     "metadata": {},
     "output_type": "display_data"
    },
    {
     "name": "stdout",
     "output_type": "stream",
     "text": [
      "=== df_pred ===\n"
     ]
    },
    {
     "data": {
      "text/html": [
       "<div>\n",
       "<style scoped>\n",
       "    .dataframe tbody tr th:only-of-type {\n",
       "        vertical-align: middle;\n",
       "    }\n",
       "\n",
       "    .dataframe tbody tr th {\n",
       "        vertical-align: top;\n",
       "    }\n",
       "\n",
       "    .dataframe thead th {\n",
       "        text-align: right;\n",
       "    }\n",
       "</style>\n",
       "<table border=\"1\" class=\"dataframe\">\n",
       "  <thead>\n",
       "    <tr style=\"text-align: right;\">\n",
       "      <th></th>\n",
       "      <th>Columnas</th>\n",
       "      <th>Tipo</th>\n",
       "      <th>Nulos</th>\n",
       "      <th>Únicos</th>\n",
       "      <th>Duplicados</th>\n",
       "    </tr>\n",
       "  </thead>\n",
       "  <tbody>\n",
       "    <tr>\n",
       "      <th>Columnas</th>\n",
       "      <td>Columnas</td>\n",
       "      <td>object</td>\n",
       "      <td>0</td>\n",
       "      <td>16</td>\n",
       "      <td>0</td>\n",
       "    </tr>\n",
       "    <tr>\n",
       "      <th>Tipo</th>\n",
       "      <td>Tipo</td>\n",
       "      <td>object</td>\n",
       "      <td>0</td>\n",
       "      <td>3</td>\n",
       "      <td></td>\n",
       "    </tr>\n",
       "    <tr>\n",
       "      <th>Nulos</th>\n",
       "      <td>Nulos</td>\n",
       "      <td>int64</td>\n",
       "      <td>0</td>\n",
       "      <td>2</td>\n",
       "      <td></td>\n",
       "    </tr>\n",
       "    <tr>\n",
       "      <th>Únicos</th>\n",
       "      <td>Únicos</td>\n",
       "      <td>int64</td>\n",
       "      <td>0</td>\n",
       "      <td>4</td>\n",
       "      <td></td>\n",
       "    </tr>\n",
       "    <tr>\n",
       "      <th>Duplicados</th>\n",
       "      <td>Duplicados</td>\n",
       "      <td>object</td>\n",
       "      <td>0</td>\n",
       "      <td>2</td>\n",
       "      <td></td>\n",
       "    </tr>\n",
       "  </tbody>\n",
       "</table>\n",
       "</div>"
      ],
      "text/plain": [
       "              Columnas    Tipo  Nulos  Únicos Duplicados\n",
       "Columnas      Columnas  object      0      16          0\n",
       "Tipo              Tipo  object      0       3           \n",
       "Nulos            Nulos   int64      0       2           \n",
       "Únicos          Únicos   int64      0       4           \n",
       "Duplicados  Duplicados  object      0       2           "
      ]
     },
     "metadata": {},
     "output_type": "display_data"
    }
   ],
   "source": [
    "# 1. Info rápida\n",
    "def quick_info(df, name):\n",
    "    return pd.DataFrame({\n",
    "        \"Columnas\": df.columns,\n",
    "        \"Tipo\": df.dtypes.astype(str),\n",
    "        \"Nulos\": df.isna().sum(),\n",
    "        \"Únicos\": df.nunique(),\n",
    "        \"Duplicados\": [df.duplicated().sum()] + [\"\"]*(len(df.columns)-1)\n",
    "    })\n",
    "\n",
    "# 2. Resumen de ambos DataFrames\n",
    "info_demand = quick_info(df_demand, \"df_demand\")\n",
    "info_alpha  = quick_info(df_alpha, \"df_alpha\")\n",
    "df_pred  = quick_info(df_pred, \"df_pred\")\n",
    "\n",
    "print(\"=== df_demand ===\")\n",
    "display(info_demand)\n",
    "\n",
    "print(\"=== df_alpha ===\")\n",
    "display(info_alpha)\n",
    "\n",
    "print(\"=== df_pred ===\")\n",
    "display(df_pred)"
   ]
  },
  {
   "cell_type": "markdown",
   "id": "74f5b5b1",
   "metadata": {},
   "source": [
    "No se observan nulos, ni duplicados."
   ]
  },
  {
   "cell_type": "markdown",
   "id": "d84049ea",
   "metadata": {},
   "source": [
    "### Formateo de variables"
   ]
  },
  {
   "cell_type": "code",
   "execution_count": null,
   "id": "2ba78ae9",
   "metadata": {},
   "outputs": [
    {
     "name": "stdout",
     "output_type": "stream",
     "text": [
      "df_demand: (64, 2)\n",
      "year_month    datetime64[ns]\n",
      "Demand               float64\n",
      "dtype: object\n",
      "\n",
      "df_alpha: (7043, 16)\n",
      "            Demand      Charges\n",
      "count  7032.000000  7043.000000\n",
      "mean   2283.300441    64.761692\n",
      "std    2266.771362    30.090047\n",
      "min      18.800000    18.250000\n",
      "25%     401.450000    35.500000\n",
      "50%    1397.475000    70.350000\n",
      "75%    3794.737500    89.850000\n",
      "max    8684.800000   118.750000\n",
      "\n",
      "Class distribution:\n",
      " Class\n",
      "ALPHA    5174\n",
      "BETA     1869\n",
      "Name: count, dtype: int64\n",
      "\n",
      "df_pred: (5, 5)\n",
      "Columnas      object\n",
      "Tipo          object\n",
      "Nulos          int64\n",
      "Únicos         int64\n",
      "Duplicados    object\n",
      "dtype: object\n"
     ]
    }
   ],
   "source": [
    "\n",
    "def normalize_text(s):\n",
    "    if pd.isna(s):\n",
    "        return s\n",
    "    s = str(s).strip().upper()\n",
    "    s = ''.join(c for c in unicodedata.normalize(\"NFKD\", s) if unicodedata.category(c) != \"Mn\")\n",
    "    return s\n",
    "\n",
    "# ---------- df_demand ----------\n",
    "# parsear fecha y asegurar numérico (nombres reales: year_month, Demand)\n",
    "df_demand[\"year_month\"] = pd.to_datetime(df_demand[\"year_month\"], format=\"%Y-%m\", errors=\"coerce\")\n",
    "df_demand[\"Demand\"] = pd.to_numeric(df_demand[\"Demand\"], errors=\"coerce\")\n",
    "df_demand = df_demand.sort_values(\"year_month\").reset_index(drop=True)\n",
    "\n",
    "# ---------- df_alpha ----------\n",
    "# normalizar texto en columnas object (excepto autoID)\n",
    "obj_cols = [c for c in df_alpha.select_dtypes(include=\"object\").columns if c != \"autoID\"]\n",
    "for c in obj_cols:\n",
    "    df_alpha[c] = df_alpha[c].apply(normalize_text)\n",
    "\n",
    "# unificar etiquetas erróneas y asegurar tipos numéricos\n",
    "if \"Class\" in df_alpha.columns:\n",
    "    df_alpha[\"Class\"] = df_alpha[\"Class\"].replace({\"BETHA\": \"BETA\"}) \n",
    "    df_alpha[\"Class\"] = df_alpha[\"Class\"].astype(\"category\")\n",
    "\n",
    "if \"Demand\" in df_alpha.columns:\n",
    "    df_alpha[\"Demand\"] = pd.to_numeric(df_alpha[\"Demand\"], errors=\"coerce\")\n",
    "\n",
    "if \"Charges\" in df_alpha.columns:\n",
    "    df_alpha[\"Charges\"] = pd.to_numeric(df_alpha[\"Charges\"], errors=\"coerce\")\n",
    "\n",
    "# ---------- df_pred ----------\n",
    "# aplicar misma normalización que en df_alpha\n",
    "for c in df_pred.select_dtypes(include=\"object\").columns:\n",
    "    df_pred[c] = df_pred[c].apply(normalize_text)\n",
    "\n",
    "if \"Charges\" in df_pred.columns:\n",
    "    df_pred[\"Charges\"] = pd.to_numeric(df_pred[\"Charges\"], errors=\"coerce\")\n",
    "\n",
    "# ---------- checks rápidos ----------\n",
    "print(\"df_demand:\", df_demand.shape)\n",
    "print(df_demand.dtypes)\n",
    "\n",
    "print(\"\\ndf_alpha:\", df_alpha.shape)\n",
    "print(df_alpha[[\"Demand\", \"Charges\"]].describe(include=\"all\"))\n",
    "print(\"\\nClass distribution:\\n\", df_alpha[\"Class\"].value_counts(dropna=False))\n",
    "\n",
    "print(\"\\ndf_pred:\", df_pred.shape)\n",
    "print(df_pred.dtypes)\n"
   ]
  },
  {
   "cell_type": "markdown",
   "id": "deb0154a",
   "metadata": {},
   "source": [
    "Se observa un desbalanceo de clases: ALPHA ≈ 74%, BETA ≈ 26%."
   ]
  },
  {
   "cell_type": "markdown",
   "id": "65b38238",
   "metadata": {},
   "source": [
    "### Tendencia y estacionalidad de la demanda\n",
    "Visualizamos la serie de tiempo completa y analizamos si hay patrones de tendencia o estacionalidad."
   ]
  },
  {
   "cell_type": "code",
   "execution_count": 22,
   "id": "f64eea04",
   "metadata": {},
   "outputs": [
    {
     "data": {
      "image/png": "[encoded data removed]",
      "text/plain": [
       "<Figure size 1200x600 with 1 Axes>"
      ]
     },
     "metadata": {},
     "output_type": "display_data"
    }
   ],
   "source": [
    "plt.figure(figsize=(12, 6))\n",
    "plt.plot(df_demand[\"year_month\"], df_demand[\"Demand\"], marker=\"o\")\n",
    "plt.title(\"Demanda mensual (2017-2022)\", fontsize=14)\n",
    "plt.xlabel(\"Fecha\")\n",
    "plt.ylabel(\"Demanda\")\n",
    "plt.grid(True)\n",
    "plt.show()"
   ]
  },
  {
   "cell_type": "markdown",
   "id": "d75d3416",
   "metadata": {},
   "source": [
    "Se observa una clara estacionalidad, con caídas abruptas entre años. Esto sugiere que el modelo necesitará capturar patrones estacionales anuales. Hay tendencias y cambios de nivel, por lo que no es estacionaria."
   ]
  }
 ],
 "metadata": {
  "kernelspec": {
   "display_name": "Python 3",
   "language": "python",
   "name": "python3"
  },
  "language_info": {
   "codemirror_mode": {
    "name": "ipython",
    "version": 3
   },
   "file_extension": ".py",
   "mimetype": "text/x-python",
   "name": "python",
   "nbconvert_exporter": "python",
   "pygments_lexer": "ipython3",
   "version": "3.11.9"
  }
 },
 "nbformat": 4,
 "nbformat_minor": 5
}
